{
 "cells": [
  {
   "cell_type": "code",
   "execution_count": null,
   "id": "cb475586-387d-4ac8-9844-5136583250d5",
   "metadata": {},
   "outputs": [],
   "source": [
    "#detect by pairs with for-loop\n",
    "class Solution:\n",
    "    def twoSum(self, nums: List[int], target: int) -> List[int]:\n",
    "        n = len(nums)   #to count the number of the elements in the list\n",
    "        for i in range(n):   #to use for-loop to detect one by one\n",
    "            for j in range(i + 1, n):\n",
    "                if nums[i] + nums[j] == target:\n",
    "                    return [i, j]\n",
    "        \n",
    "        return []    #no result returns empty"
   ]
  },
  {
   "cell_type": "code",
   "execution_count": null,
   "id": "e0339a32-ad72-49a0-b095-cba4e6a5d3eb",
   "metadata": {},
   "outputs": [],
   "source": [
    "#detect and store in dictionary at the same time(dic looking-for time complexity is 1)\n",
    "\n",
    "    def twoSum(self, nums: List[int], target: int) -> List[int]:\n",
    "        hashtable = dict()   #construct a dictionary\n",
    "        for i, num in enumerate(nums):  #this will get the (0,1,2...)index and the element in it simultaneously\n",
    "            if target - num in hashtable:\n",
    "                return [hashtable[target - num], i]\n",
    "            hashtable[nums[i]] = i\n",
    "        return []"
   ]
  }
 ],
 "metadata": {
  "kernelspec": {
   "display_name": "Python 3 (ipykernel)",
   "language": "python",
   "name": "python3"
  },
  "language_info": {
   "codemirror_mode": {
    "name": "ipython",
    "version": 3
   },
   "file_extension": ".py",
   "mimetype": "text/x-python",
   "name": "python",
   "nbconvert_exporter": "python",
   "pygments_lexer": "ipython3",
   "version": "3.8.13"
  }
 },
 "nbformat": 4,
 "nbformat_minor": 5
}
