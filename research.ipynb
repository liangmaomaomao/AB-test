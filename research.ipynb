{
  "cells": [
    {
      "cell_type": "markdown",
      "metadata": {
        "id": "view-in-github",
        "colab_type": "text"
      },
      "source": [
        "<a href=\"https://colab.research.google.com/github/liangmaomaomao/AB-test/blob/main/research.ipynb\" target=\"_parent\"><img src=\"https://colab.research.google.com/assets/colab-badge.svg\" alt=\"Open In Colab\"/></a>"
      ]
    },
    {
      "cell_type": "code",
      "source": [
        "import pandas as pd\n",
        "import numpy as np"
      ],
      "metadata": {
        "id": "ZyfCwoIVgdMT"
      },
      "execution_count": 5,
      "outputs": []
    },
    {
      "cell_type": "code",
      "source": [
        "Daily_AQI_2020=pd.read_csv('daily_aqi_by_county_2020.csv')\n",
        "Daily_AQI_2021=pd.read_csv('daily_aqi_by_county_2021.csv')\n",
        "Daily_AQI_2022=pd.read_csv('daily_aqi_by_county_2022.csv')"
      ],
      "metadata": {
        "id": "f9IsPgs_gStD"
      },
      "execution_count": 6,
      "outputs": []
    },
    {
      "cell_type": "code",
      "source": [
        "Daily_AQI=pd.concat([Daily_AQI_2020,Daily_AQI_2021])"
      ],
      "metadata": {
        "id": "ECTOUM32g-cT"
      },
      "execution_count": 29,
      "outputs": []
    },
    {
      "cell_type": "code",
      "source": [
        "Daily_AQI=pd.concat([Daily_AQI,Daily_AQI_2022])"
      ],
      "metadata": {
        "id": "sSihLDFbhEYv"
      },
      "execution_count": 30,
      "outputs": []
    },
    {
      "cell_type": "code",
      "source": [
        "Mobility=pd.read_csv('Global_Mobility_Report.csv')"
      ],
      "metadata": {
        "id": "F-kCBF9uharL",
        "outputId": "2ebfc9d1-5a85-4e69-9ef4-8323eb0d07df",
        "colab": {
          "base_uri": "https://localhost:8080/"
        }
      },
      "execution_count": 25,
      "outputs": [
        {
          "output_type": "stream",
          "name": "stderr",
          "text": [
            "<ipython-input-25-81bc59d9bbb8>:1: DtypeWarning: Columns (3,4,5) have mixed types. Specify dtype option on import or set low_memory=False.\n",
            "  Mobility=pd.read_csv('Global_Mobility_Report.csv')\n"
          ]
        }
      ]
    },
    {
      "cell_type": "code",
      "source": [
        "Daily_AQI.columns"
      ],
      "metadata": {
        "id": "CL-xuQaeh1Lf",
        "outputId": "a0eaa12f-1f63-4cc1-e80c-a70ac6a57843",
        "colab": {
          "base_uri": "https://localhost:8080/"
        }
      },
      "execution_count": 31,
      "outputs": [
        {
          "output_type": "execute_result",
          "data": {
            "text/plain": [
              "Index(['State Name', 'county Name', 'State Code', 'County Code', 'Date', 'AQI',\n",
              "       'Category', 'Defining Parameter', 'Defining Site',\n",
              "       'Number of Sites Reporting'],\n",
              "      dtype='object')"
            ]
          },
          "metadata": {},
          "execution_count": 31
        }
      ]
    },
    {
      "cell_type": "code",
      "source": [
        "Mobility.columns"
      ],
      "metadata": {
        "id": "aWVFvxhtiLtv",
        "outputId": "0c627da0-9724-4517-c1bd-d19fdd0a6be5",
        "colab": {
          "base_uri": "https://localhost:8080/"
        }
      },
      "execution_count": 27,
      "outputs": [
        {
          "output_type": "execute_result",
          "data": {
            "text/plain": [
              "Index(['country_region_code', 'country_region', 'sub_region_1', 'sub_region_2',\n",
              "       'metro_area', 'iso_3166_2_code', 'census_fips_code', 'place_id', 'date',\n",
              "       'retail_and_recreation_percent_change_from_baseline',\n",
              "       'grocery_and_pharmacy_percent_change_from_baseline',\n",
              "       'parks_percent_change_from_baseline',\n",
              "       'transit_stations_percent_change_from_baseline',\n",
              "       'workplaces_percent_change_from_baseline',\n",
              "       'residential_percent_change_from_baseline'],\n",
              "      dtype='object')"
            ]
          },
          "metadata": {},
          "execution_count": 27
        }
      ]
    },
    {
      "cell_type": "code",
      "source": [
        "Mobility.country_region.unique()"
      ],
      "metadata": {
        "id": "Y5mZlvbdktmi",
        "outputId": "afe1e5c8-f44b-4541-a027-6b21f32ab4ab",
        "colab": {
          "base_uri": "https://localhost:8080/"
        }
      },
      "execution_count": 32,
      "outputs": [
        {
          "output_type": "execute_result",
          "data": {
            "text/plain": [
              "array(['United Arab Emirates', 'Afghanistan', 'Antigua and Barbuda',\n",
              "       'Angola', 'Argentina', 'Austria', 'Australia', 'Aruba',\n",
              "       'Bosnia and Herzegovina', 'Barbados', 'Bangladesh', 'Belgium',\n",
              "       'Burkina Faso', 'Bulgaria', 'Bahrain', 'Benin', 'Bolivia',\n",
              "       'Brazil', 'The Bahamas', 'Botswana', 'Belarus', 'Belize', 'Canada',\n",
              "       'Switzerland', \"Côte d'Ivoire\", 'Chile', 'Cameroon', 'Colombia',\n",
              "       'Costa Rica', 'Cape Verde', 'Czechia', 'Germany', 'Denmark',\n",
              "       'Dominican Republic', 'Ecuador', 'Estonia', 'Egypt', 'Spain',\n",
              "       'Finland', 'Fiji', 'France', 'Gabon', 'United Kingdom', 'Georgia',\n",
              "       'Ghana', 'Greece', 'Guatemala', 'Guinea-Bissau', 'Hong Kong',\n",
              "       'Honduras', 'Croatia', 'Haiti', 'Hungary', 'Indonesia', 'Ireland',\n",
              "       'Israel', 'India', 'Iraq', 'Italy', 'Jamaica', 'Jordan', 'Japan',\n",
              "       'Kenya', 'Kyrgyzstan', 'Cambodia', 'South Korea', 'Kuwait',\n",
              "       'Kazakhstan', 'Laos', 'Lebanon', 'Liechtenstein', 'Sri Lanka',\n",
              "       'Lithuania', 'Luxembourg', 'Latvia', 'Libya', 'Morocco', 'Moldova',\n",
              "       'North Macedonia', 'Mali', 'Myanmar (Burma)', 'Mongolia', 'Malta',\n",
              "       'Mauritius', 'Mexico', 'Malaysia', 'Mozambique', 'Namibia',\n",
              "       'Niger', 'Nigeria', 'Nicaragua', 'Netherlands', 'Norway', 'Nepal',\n",
              "       'New Zealand', 'Oman', 'Panama', 'Peru', 'Papua New Guinea',\n",
              "       'Philippines', 'Pakistan', 'Poland', 'Puerto Rico', 'Portugal',\n",
              "       'Paraguay', 'Qatar', 'Réunion', 'Romania', 'Serbia', 'Russia',\n",
              "       'Rwanda', 'Saudi Arabia', 'Sweden', 'Singapore', 'Slovenia',\n",
              "       'Slovakia', 'Senegal', 'El Salvador', 'Togo', 'Thailand',\n",
              "       'Tajikistan', 'Turkey', 'Trinidad and Tobago', 'Taiwan',\n",
              "       'Tanzania', 'Ukraine', 'Uganda', 'United States', 'Uruguay',\n",
              "       'Venezuela', 'Vietnam', 'Yemen', 'South Africa', 'Zambia',\n",
              "       'Zimbabwe'], dtype=object)"
            ]
          },
          "metadata": {},
          "execution_count": 32
        }
      ]
    },
    {
      "cell_type": "code",
      "source": [
        "Mobility=Mobility[Mobility['country_region']=='United States']"
      ],
      "metadata": {
        "id": "xhlYKB5cknos"
      },
      "execution_count": 35,
      "outputs": []
    },
    {
      "cell_type": "code",
      "source": [
        "Daily_AQI"
      ],
      "metadata": {
        "id": "8DEKS8Nws1uy"
      },
      "execution_count": null,
      "outputs": []
    },
    {
      "cell_type": "code",
      "source": [
        "merged_df = pd.merge(Daily_AQI, Mobility, left_on=['State Name','county Name','Date'], right_on=['sub_region_1','sub_region_2','date'],how='outer')\n"
      ],
      "metadata": {
        "id": "cbSF8C_3kgsS"
      },
      "execution_count": 61,
      "outputs": []
    },
    {
      "cell_type": "code",
      "source": [
        "merged_df_in = pd.merge(Daily_AQI, Mobility, left_on=['State Name','county Name','Date'], right_on=['sub_region_1','sub_region_2','date'])\n"
      ],
      "metadata": {
        "id": "kF_Nq2H5rssh"
      },
      "execution_count": 69,
      "outputs": []
    },
    {
      "cell_type": "code",
      "source": [
        "merged_df_in.shape"
      ],
      "metadata": {
        "id": "BUcZ3ptIlqeY",
        "outputId": "ff33bd39-34f0-4a77-e5b3-ea9a26885f39",
        "colab": {
          "base_uri": "https://localhost:8080/"
        }
      },
      "execution_count": 70,
      "outputs": [
        {
          "output_type": "execute_result",
          "data": {
            "text/plain": [
              "(3680, 25)"
            ]
          },
          "metadata": {},
          "execution_count": 70
        }
      ]
    },
    {
      "cell_type": "code",
      "source": [
        "merged_df.shape"
      ],
      "metadata": {
        "id": "yD5_0G7-qQyP",
        "outputId": "642d1534-56da-48d3-dd7e-07b9b7993986",
        "colab": {
          "base_uri": "https://localhost:8080/"
        }
      },
      "execution_count": 62,
      "outputs": [
        {
          "output_type": "execute_result",
          "data": {
            "text/plain": [
              "(3361326, 25)"
            ]
          },
          "metadata": {},
          "execution_count": 62
        }
      ]
    },
    {
      "cell_type": "code",
      "source": [
        "merged_df_in['Date'] = pd.to_datetime(merged_df_in['Date'])\n",
        "\n",
        "merged_df_in['Month'] = merged_df_in['Date'].dt.month"
      ],
      "metadata": {
        "id": "6SXbDVxlli6c"
      },
      "execution_count": 71,
      "outputs": []
    },
    {
      "cell_type": "code",
      "source": [
        "merged_df['Date'] = pd.to_datetime(merged_df['Date'])\n",
        "\n",
        "merged_df['Month'] = merged_df['Date'].dt.month"
      ],
      "metadata": {
        "id": "MYg8Uwjbrx4d"
      },
      "execution_count": null,
      "outputs": []
    },
    {
      "cell_type": "code",
      "source": [
        "correlation = merged_df.groupby(['State Name', 'county Name', 'Month'])['AQI', 'retail_and_recreation_percent_change_from_baseline'].corr(min_periods=1).unstack().iloc[:,1].reset_index()"
      ],
      "metadata": {
        "id": "Pjk0jZKjoD_b",
        "outputId": "5433c57f-e64f-426b-ac4a-2c062c010141",
        "colab": {
          "base_uri": "https://localhost:8080/"
        }
      },
      "execution_count": 72,
      "outputs": [
        {
          "output_type": "stream",
          "name": "stderr",
          "text": [
            "<ipython-input-72-6e561f07fc6b>:1: FutureWarning: Indexing with multiple keys (implicitly converted to a tuple of keys) will be deprecated, use a list instead.\n",
            "  correlation = merged_df.groupby(['State Name', 'county Name', 'Month'])['AQI', 'retail_and_recreation_percent_change_from_baseline'].corr(min_periods=1).unstack().iloc[:,1].reset_index()\n"
          ]
        }
      ]
    },
    {
      "cell_type": "code",
      "source": [
        "correlation_in = merged_df.groupby(['State Name', 'county Name', 'Month'])['AQI', 'retail_and_recreation_percent_change_from_baseline'].corr(min_periods=1).unstack().iloc[:,1].reset_index()\n"
      ],
      "metadata": {
        "id": "yeBK931ur4eR",
        "outputId": "03c12a81-0262-43ff-95be-dfa085409650",
        "colab": {
          "base_uri": "https://localhost:8080/"
        }
      },
      "execution_count": 73,
      "outputs": [
        {
          "output_type": "stream",
          "name": "stderr",
          "text": [
            "<ipython-input-73-e05d65ff54e8>:1: FutureWarning: Indexing with multiple keys (implicitly converted to a tuple of keys) will be deprecated, use a list instead.\n",
            "  correlation_in = merged_df.groupby(['State Name', 'county Name', 'Month'])['AQI', 'retail_and_recreation_percent_change_from_baseline'].corr(min_periods=1).unstack().iloc[:,1].reset_index()\n"
          ]
        }
      ]
    },
    {
      "cell_type": "code",
      "source": [
        "correlation.shape"
      ],
      "metadata": {
        "id": "mJnSKTTHpjIo",
        "outputId": "313c169b-9a41-4906-d7c2-3ba29b1bebb4",
        "colab": {
          "base_uri": "https://localhost:8080/"
        }
      },
      "execution_count": 66,
      "outputs": [
        {
          "output_type": "execute_result",
          "data": {
            "text/plain": [
              "(11748, 4)"
            ]
          },
          "metadata": {},
          "execution_count": 66
        }
      ]
    },
    {
      "cell_type": "code",
      "source": [
        "correlation.columns"
      ],
      "metadata": {
        "id": "hQeVNidNsY93",
        "outputId": "a69cc968-8baf-4bb6-c9df-cbeb173e8d34",
        "colab": {
          "base_uri": "https://localhost:8080/"
        }
      },
      "execution_count": 78,
      "outputs": [
        {
          "output_type": "execute_result",
          "data": {
            "text/plain": [
              "MultiIndex([( 'State Name', ...),\n",
              "            ('county Name', ...),\n",
              "            (      'Month', ...),\n",
              "            (        'AQI', ...)],\n",
              "           )"
            ]
          },
          "metadata": {},
          "execution_count": 78
        }
      ]
    },
    {
      "cell_type": "code",
      "source": [
        "correlation['AQI'].isnull().sum()"
      ],
      "metadata": {
        "id": "JvHS2dVBpGyo",
        "outputId": "022c66b2-7799-44e6-96ca-8e4444f980c2",
        "colab": {
          "base_uri": "https://localhost:8080/"
        }
      },
      "execution_count": 81,
      "outputs": [
        {
          "output_type": "execute_result",
          "data": {
            "text/plain": [
              "retail_and_recreation_percent_change_from_baseline    11700\n",
              "dtype: int64"
            ]
          },
          "metadata": {},
          "execution_count": 81
        }
      ]
    },
    {
      "cell_type": "code",
      "source": [
        "df = pd.DataFrame({'Group1': ['A', 'A', 'B', 'B', 'B'],\n",
        "                   'Group2': ['X', 'X', 'Y', 'Y', 'Y'],\n",
        "                   'Group3': ['M', 'M', 'N', 'N', 'N'],\n",
        "                   'Column1': [1, 2, 3, 4, 5],\n",
        "                   'Column2': [6, 7, 8, 5, 10]})\n",
        "\n",
        "# Calculate correlation for 'Column1' and 'Column2' grouped by 'Group1', 'Group2', and 'Group3'\n",
        "correlation = df.groupby(['Group1', 'Group2', 'Group3'])['Column1', 'Column2'].corr().unstack().iloc[:,1]\n",
        "\n",
        "correlation"
      ],
      "metadata": {
        "id": "Ir6j-Aonl6VL",
        "outputId": "f4127765-7c0e-4841-9273-9f737b4d45f4",
        "colab": {
          "base_uri": "https://localhost:8080/"
        }
      },
      "execution_count": 53,
      "outputs": [
        {
          "output_type": "stream",
          "name": "stderr",
          "text": [
            "<ipython-input-53-0aac847e8258>:8: FutureWarning: Indexing with multiple keys (implicitly converted to a tuple of keys) will be deprecated, use a list instead.\n",
            "  correlation = df.groupby(['Group1', 'Group2', 'Group3'])['Column1', 'Column2'].corr().unstack().iloc[:,1]\n"
          ]
        },
        {
          "output_type": "execute_result",
          "data": {
            "text/plain": [
              "Group1  Group2  Group3\n",
              "A       X       M         1.00000\n",
              "B       Y       N         0.39736\n",
              "Name: (Column1, Column2), dtype: float64"
            ]
          },
          "metadata": {},
          "execution_count": 53
        }
      ]
    },
    {
      "cell_type": "code",
      "source": [
        "Mobility['date'] = pd.to_datetime(Mobility['date'])\n",
        "\n",
        "Mobility['Month'] = Mobility['date'].dt.month\n"
      ],
      "metadata": {
        "id": "DFfRlH_Oi22y"
      },
      "execution_count": 21,
      "outputs": []
    },
    {
      "cell_type": "code",
      "source": [
        "Daily_AQI['Date']"
      ],
      "metadata": {
        "id": "iHXtSlp6jd2r",
        "outputId": "d2e9d210-c2b4-451e-835c-3dbc91fe6ec2",
        "colab": {
          "base_uri": "https://localhost:8080/"
        }
      },
      "execution_count": 23,
      "outputs": [
        {
          "output_type": "execute_result",
          "data": {
            "text/plain": [
              "0         2020-01-01\n",
              "1         2020-01-04\n",
              "2         2020-01-07\n",
              "3         2020-01-10\n",
              "4         2020-01-13\n",
              "             ...    \n",
              "202781    2022-06-26\n",
              "202782    2022-06-27\n",
              "202783    2022-06-28\n",
              "202784    2022-06-29\n",
              "202785    2022-06-30\n",
              "Name: Date, Length: 853012, dtype: object"
            ]
          },
          "metadata": {},
          "execution_count": 23
        }
      ]
    },
    {
      "cell_type": "code",
      "source": [
        "Daily_AQI['Date'] = pd.to_datetime(Daily_AQI['Date'])\n",
        "\n",
        "Daily_AQI['Month'] = Daily_AQI['Date'].dt.month"
      ],
      "metadata": {
        "id": "xpydDdR8jihX"
      },
      "execution_count": 24,
      "outputs": []
    },
    {
      "cell_type": "code",
      "source": [],
      "metadata": {
        "id": "XBoft9kZjqnO"
      },
      "execution_count": null,
      "outputs": []
    }
  ],
  "metadata": {
    "colab": {
      "name": "Welcome To Colaboratory",
      "provenance": [],
      "include_colab_link": true
    },
    "kernelspec": {
      "display_name": "Python 3",
      "name": "python3"
    }
  },
  "nbformat": 4,
  "nbformat_minor": 0
}